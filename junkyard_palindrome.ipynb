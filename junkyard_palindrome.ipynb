{
 "cells": [
  {
   "cell_type": "markdown",
   "metadata": {},
   "source": [
    "Create a function named junkyard_palindrome that receives items as its parameter.\n",
    "\n",
    "This function aims to determine if the reversed names of the given junkyard items can be rearranged to form a palindrome.\n",
    "\n",
    "In this challenge, you will help an old robot named Rusty to check if the reversed names of the items from the junkyard can be rearranged to create a palindrome. To solve this problem, follow these steps:\n",
    "\n",
    "Reverse the name of each item in the items list.\n",
    "Check if the reversed names can be rearranged to form a palindrome.\n",
    "Use break and continue statements efficiently to skip unnecessary checks and flag possible palindrome formations early.\n",
    "Ensure the function considers optimal stopping conditions using advanced break and continue logic to make the solution efficient even for the maximum input sizes.\n",
    "Parameters:\n",
    "\n",
    "items (list): A list of strings representing the names of the junkyard items. Each name can be up to 20 characters long, and the list can contain up to 10 items.\n",
    "The function returns a string, either \"Yes\" if the reversed names can be rearranged to form a palindrome or \"No\" if it is not possible."
   ]
  },
  {
   "cell_type": "code",
   "execution_count": null,
   "metadata": {},
   "outputs": [],
   "source": [
    "def junkyard_palindrome(items):\n",
    "    reversed_items = []\n",
    "\n",
    "    \n",
    "    for item in items:\n",
    "        reversed_items.append(item[::-1])\n",
    "        \n",
    "    char_count = {}\n",
    "    for item in reversed_items:\n",
    "        for char in item:\n",
    "            char_count[char] = char_count.get(char, 0) + 1\n",
    "    \n",
    "    odd_count = 0\n",
    "\n",
    "    for count in char_count.values():\n",
    "        if count % 2 != 0:\n",
    "            odd_count += 1\n",
    "            if odd_count > 1:\n",
    "                return \"No\"\n",
    "    \n",
    "    return \"Yes\""
   ]
  },
  {
   "cell_type": "code",
   "execution_count": null,
   "metadata": {},
   "outputs": [],
   "source": [
    "junkyard_palindrome([\"apple\", \"banana\", \"carrot\"])"
   ]
  }
 ],
 "metadata": {
  "kernelspec": {
   "display_name": "Python 3",
   "language": "python",
   "name": "python3"
  },
  "language_info": {
   "name": "python",
   "version": "3.12.0"
  }
 },
 "nbformat": 4,
 "nbformat_minor": 2
}
