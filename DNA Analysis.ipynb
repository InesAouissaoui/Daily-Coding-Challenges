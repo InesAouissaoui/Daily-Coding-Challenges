{
 "cells": [
  {
   "cell_type": "markdown",
   "metadata": {},
   "source": [
    "Create a function named analyze_dna that receives sequence and target as its parameters.\n",
    "\n",
    "In a quiet laboratory, a perplexing crunch echoes as you analyze a mysterious DNA sequence. Your task is to reverse the DNA sequence and search for a specific nucleotide within it.\n",
    "\n",
    "The function should perform the following operations:\n",
    "\n",
    "Reverse the input DNA sequence.\n",
    "Search for the target nucleotide in the reversed sequence.\n",
    "Return a message about the findings.\n",
    "Parameters:\n",
    "\n",
    "sequence (str): A string representing the DNA sequence. It will only contain the characters 'A', 'T', 'C', and 'G'.\n",
    "target (str): A single character string representing the target nucleotide to search for. It will be one of 'A', 'T', 'C', or 'G'.\n",
    "The function returns a string message about the analysis results.\n",
    "\n",
    "If the target nucleotide is found in the reversed sequence, the function should return: \"Target [target] found at position [position] in reversed sequence: [reversed_sequence]\"\n",
    "\n",
    "If the target nucleotide is not found, the function should return: \"Target [target] not found in reversed sequence: [reversed_sequence]\"\n",
    "\n",
    "Note: The position of the nucleotide is 1-indexed (the first character is at position 1, not 0)."
   ]
  },
  {
   "cell_type": "code",
   "execution_count": 59,
   "metadata": {},
   "outputs": [],
   "source": [
    "\n",
    "\n",
    "def analyze_dna(sequence, target):\n",
    "\n",
    " reversed = sequence [::-1]\n",
    " for i in range (len(reversed)):\n",
    "                 \n",
    "    if target in reversed:\n",
    "            pos= reversed.find(target)+1\n",
    "            return f\"Target {target} found at position {pos} in reversed sequence: {reversed}\"\n",
    "        \n",
    "    else :\n",
    "           return f\"Target {target} not found in reversed sequence: {reversed}\"\n"
   ]
  },
  {
   "cell_type": "code",
   "execution_count": 60,
   "metadata": {},
   "outputs": [
    {
     "data": {
      "text/plain": [
       "'Target A found at position 3 in reversed sequence: TCAGAGCC'"
      ]
     },
     "execution_count": 60,
     "metadata": {},
     "output_type": "execute_result"
    }
   ],
   "source": [
    "analyze_dna('CCGAGACT', 'A')"
   ]
  }
 ],
 "metadata": {
  "kernelspec": {
   "display_name": "Python 3",
   "language": "python",
   "name": "python3"
  },
  "language_info": {
   "codemirror_mode": {
    "name": "ipython",
    "version": 3
   },
   "file_extension": ".py",
   "mimetype": "text/x-python",
   "name": "python",
   "nbconvert_exporter": "python",
   "pygments_lexer": "ipython3",
   "version": "3.12.0"
  }
 },
 "nbformat": 4,
 "nbformat_minor": 2
}
